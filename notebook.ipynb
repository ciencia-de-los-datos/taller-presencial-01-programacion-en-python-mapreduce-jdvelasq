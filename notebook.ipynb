{
 "cells": [
  {
   "cell_type": "code",
   "execution_count": null,
   "metadata": {},
   "outputs": [],
   "source": [
    "import glob\n",
    "import fileinput\n",
    "\n",
    "def load_input(input_directory):\n",
    "\n",
    "    dir_path = input_directory + \"/*.txt\"\n",
    "    filenames = glob.glob(dir_path) \n",
    "\n",
    "    sequence = []\n",
    "    with fileinput.input(files=filenames) as file:\n",
    "        for line in file:\n",
    "            tupla = (fileinput.filename(), line)\n",
    "            sequence.append(tupla)\n",
    "    return sequence"
   ]
  },
  {
   "cell_type": "code",
   "execution_count": null,
   "metadata": {},
   "outputs": [],
   "source": [
    "def mapper(sequence):\n",
    "\n",
    "    new_sequence = []\n",
    "    for _, text in sequence:\n",
    "        for word in text.split():\n",
    "            tupla = (word, 1)\n",
    "            new_sequence.append(tupla)\n",
    "            \n",
    "    return new_sequence"
   ]
  },
  {
   "cell_type": "code",
   "execution_count": null,
   "metadata": {},
   "outputs": [],
   "source": [
    "def shuffle_and_sort(sequence):\n",
    "    new_sequence = sorted(sequence, key=lambda x: x[0])\n",
    "    return new_sequence"
   ]
  },
  {
   "cell_type": "code",
   "execution_count": null,
   "metadata": {},
   "outputs": [],
   "source": [
    "def reducer(sequence):\n",
    "\n",
    "    diccionario = {}\n",
    "    # for key, value in sequence:\n",
    "    #     if key not in diccionario.keys():\n",
    "    #         diccionario[key] = []\n",
    "    #     diccionario[key].append(value) \n",
    "    #\n",
    "    # new_sequence = []\n",
    "    # for key, value in diccionario.items():\n",
    "    #     tupla = (key, sum(value))\n",
    "    #     new_sequence.append(tupla)\n",
    "\n",
    "    for key, value in sequence:\n",
    "        if key not in diccionario.keys():\n",
    "            diccionario[key] = 0\n",
    "        diccionario[key] += value\n",
    "\n",
    "    new_sequence = []\n",
    "    for key, value in diccionario.items():\n",
    "        tupla = (key, value)\n",
    "        new_sequence.append(tupla)\n",
    "\n",
    "    return new_sequence"
   ]
  },
  {
   "cell_type": "code",
   "execution_count": 51,
   "metadata": {},
   "outputs": [],
   "source": [
    "import os.path\n",
    "\n",
    "def create_output_directory(output_directory):\n",
    "    \n",
    "    if os.path.exists(output_directory):\n",
    "        raise FileExistsError(f\"The directory '{output_directory}' already exists.\")\n",
    "    os.makedirs(output_directory)"
   ]
  },
  {
   "cell_type": "code",
   "execution_count": 52,
   "metadata": {},
   "outputs": [],
   "source": [
    "def save_output(output_directory, sequence):\n",
    "    with open(output_directory + \"/part-00000\", \"w\") as file:\n",
    "        for key, value in sequence:\n",
    "            file.write(f\"{key}\\t{value}\\n\")"
   ]
  },
  {
   "cell_type": "code",
   "execution_count": 53,
   "metadata": {},
   "outputs": [],
   "source": [
    "def create_marker(output_directory):\n",
    "    with open(output_directory + \"/_SUCCESS\", \"w\") as file:\n",
    "        file.write(\"\")\n",
    "\n",
    "    \n"
   ]
  },
  {
   "cell_type": "code",
   "execution_count": 55,
   "metadata": {},
   "outputs": [],
   "source": [
    "def job(input_directory, output_directory):\n",
    "    sequence = load_input(input_directory)\n",
    "    sequence = mapper(sequence)\n",
    "    sequence = shuffle_and_sort(sequence)\n",
    "    sequence = reducer(sequence)\n",
    "    create_output_directory(output_directory)\n",
    "    save_output(output_directory, sequence)\n",
    "    create_marker(output_directory)\n",
    "\n",
    "job(\n",
    "    input_directory=\"input\",\n",
    "    output_directory=\"output-demo\",\n",
    ")    "
   ]
  },
  {
   "cell_type": "code",
   "execution_count": null,
   "metadata": {},
   "outputs": [],
   "source": []
  }
 ],
 "metadata": {
  "kernelspec": {
   "display_name": ".venv",
   "language": "python",
   "name": "python3"
  },
  "language_info": {
   "codemirror_mode": {
    "name": "ipython",
    "version": 3
   },
   "file_extension": ".py",
   "mimetype": "text/x-python",
   "name": "python",
   "nbconvert_exporter": "python",
   "pygments_lexer": "ipython3",
   "version": "3.8.9"
  }
 },
 "nbformat": 4,
 "nbformat_minor": 2
}
